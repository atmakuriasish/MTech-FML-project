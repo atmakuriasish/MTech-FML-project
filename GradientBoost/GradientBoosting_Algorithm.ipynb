{
 "cells": [
  {
   "cell_type": "markdown",
   "metadata": {},
   "source": [
    "# GradientBoosting Algorithm From Scratch"
   ]
  },
  {
   "cell_type": "markdown",
   "metadata": {},
   "source": [
    "## Importing Libraries"
   ]
  },
  {
   "cell_type": "code",
   "execution_count": 2,
   "metadata": {},
   "outputs": [],
   "source": [
    "import numpy as np\n",
    "import pandas as pd\n",
    "from sklearn.tree import DecisionTreeRegressor\n",
    "from sklearn.model_selection import train_test_split\n",
    "from sklearn.metrics import accuracy_score, confusion_matrix\n",
    "from sklearn.ensemble import GradientBoostingClassifier"
   ]
  },
  {
   "cell_type": "markdown",
   "metadata": {},
   "source": [
    "## The Gradient Boost Classifier"
   ]
  },
  {
   "cell_type": "code",
   "execution_count": 3,
   "metadata": {},
   "outputs": [],
   "source": [
    "class MyGradientBoostClassifier:\n",
    "    def __init__(self, n_estimators=100, learning_rate=0.1, max_depth=3):\n",
    "        self.n_estimators = n_estimators\n",
    "        self.learning_rate = learning_rate\n",
    "        self.max_depth = max_depth\n",
    "        self.binary_classifiers = []\n",
    "\n",
    "    def fit(self, X, y):\n",
    "        # Initialize predictions with zeros for each class\n",
    "        class_labels = np.unique(y)\n",
    "        predictions = np.zeros((len(y), len(class_labels)))\n",
    "\n",
    "        for i, label in enumerate(class_labels):\n",
    "            # Create binary labels for the current class\n",
    "            binary_labels = (y == label).astype(int)\n",
    "\n",
    "            # Fit a binary classifier for the current class\n",
    "            binary_classifier = self.build_binary_classifier(X, binary_labels)\n",
    "            self.binary_classifiers.append(binary_classifier)\n",
    "\n",
    "            # Update predictions with the binary classifier's predictions, scaled by the learning rate\n",
    "            predictions[:, i] += self.learning_rate * binary_classifier.predict(X)\n",
    "\n",
    "        return predictions\n",
    "\n",
    "    def build_binary_classifier(self, X, y):\n",
    "        # Fit a decision tree to the pseudo-residuals\n",
    "        tree = DecisionTreeRegressor(max_depth=self.max_depth)\n",
    "        tree.fit(X, y)\n",
    "        return tree\n",
    "\n",
    "    def predict_proba(self, X):\n",
    "        # Make predictions for each binary classifier\n",
    "        binary_predictions = np.zeros((X.shape[0], len(self.binary_classifiers)))\n",
    "        for i, binary_classifier in enumerate(self.binary_classifiers):\n",
    "            binary_predictions[:, i] = binary_classifier.predict(X)\n",
    "\n",
    "        # Convert binary predictions to probabilities for each class\n",
    "        probabilities = np.exp(binary_predictions) / np.sum(np.exp(binary_predictions), axis=1, keepdims=True)\n",
    "        return probabilities\n",
    "\n",
    "    def predict(self, X):\n",
    "        # Make predictions by selecting the class with the highest probability\n",
    "        probabilities = self.predict_proba(X)\n",
    "        return np.argmax(probabilities, axis=1)"
   ]
  },
  {
   "cell_type": "markdown",
   "metadata": {},
   "source": [
    "### Evaluating Our Model"
   ]
  },
  {
   "cell_type": "code",
   "execution_count": 8,
   "metadata": {},
   "outputs": [
    {
     "name": "stdout",
     "output_type": "stream",
     "text": [
      "Accuracy: 0.9666666666666667\n"
     ]
    }
   ],
   "source": [
    "iris = pd.read_csv(\"iris.csv\")\n",
    "iris = iris.drop('Id', axis=1)\n",
    "\n",
    "X = iris.iloc[:, 0:4]\n",
    "y = iris['Species']\n",
    "labels = {item: index for index, item in enumerate(np.unique(y))}\n",
    "y = y.map(labels)\n",
    "\n",
    "X_train, X_test, y_train, y_test = train_test_split(X, y, random_state=10, test_size=0.2, shuffle=True)\n",
    "\n",
    "model = MyGradientBoostClassifier(n_estimators=10)\n",
    "model.fit(X_train, y_train)\n",
    "predictions = model.predict(X_test)\n",
    "\n",
    "# Calculate the accuracy of the model\n",
    "accuracy = accuracy_score(y_test, predictions)\n",
    "print(\"Accuracy:\", accuracy)"
   ]
  },
  {
   "cell_type": "markdown",
   "metadata": {},
   "source": [
    "## Using GradientBoosting from library"
   ]
  },
  {
   "cell_type": "code",
   "execution_count": 9,
   "metadata": {},
   "outputs": [
    {
     "name": "stdout",
     "output_type": "stream",
     "text": [
      "Accuracy: 0.9666666666666667\n"
     ]
    }
   ],
   "source": [
    "iris = pd.read_csv(\"iris.csv\")  \n",
    "iris = iris.drop('Id', axis=1)\n",
    "\n",
    "X = iris.iloc[:, 0:4]\n",
    "y = iris['Species']\n",
    "labels = {item: index for index, item in enumerate(np.unique(y))}\n",
    "y = y.map(labels)\n",
    "\n",
    "X_train, X_test, y_train, y_test = train_test_split(X, y, random_state=10, test_size=0.2, shuffle=True)\n",
    "\n",
    "clf = GradientBoostingClassifier(n_estimators=10)\n",
    "clf.fit(X_train, y_train)\n",
    "print(\"Accuracy:\", clf.score(X_test, y_test))"
   ]
  },
  {
   "cell_type": "code",
   "execution_count": null,
   "metadata": {},
   "outputs": [],
   "source": []
  }
 ],
 "metadata": {
  "kernelspec": {
   "display_name": "Python 3 (ipykernel)",
   "language": "python",
   "name": "python3"
  },
  "language_info": {
   "codemirror_mode": {
    "name": "ipython",
    "version": 3
   },
   "file_extension": ".py",
   "mimetype": "text/x-python",
   "name": "python",
   "nbconvert_exporter": "python",
   "pygments_lexer": "ipython3",
   "version": "3.11.5"
  }
 },
 "nbformat": 4,
 "nbformat_minor": 4
}
